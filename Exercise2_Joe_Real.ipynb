{
 "cells": [
  {
   "cell_type": "markdown",
   "metadata": {},
   "source": [
    "## Exercise 2\n",
    "\n",
    "In the `FiniteDifferences` notebook we considered the differential equation controlling heat flow which relates the rate of change in $T$, the temperature, to spatial gradients in the same quantity. \n",
    "\n",
    "$$\n",
    "\\frac{\\partial T}{\\partial t} = \\kappa \\frac{\\partial^2 T}{\\partial x^2} + H\n",
    "$$\n",
    "       \n",
    "       \n",
    "We ignored $H$ and solved a number of examples. \n",
    "\n",
    "At the end of the notebook we looked at the time-varying solution of the heat equation using an explicit finite difference approximation. Given all the trouble we went to setting this up, don't you think it would be a good idea to see if we can iterate until we reach the steady-state solution?\n",
    "\n",
    "This is not very complicated to do so I would like you to try it __for the case where $\\kappa$ is constant__.\n",
    "\n",
    "You can copy and paste the cells from the `FiniteDifferences` here to get started."
   ]
  },
  {
   "cell_type": "markdown",
   "metadata": {},
   "source": [
    "## Hints\n",
    "\n",
    "You have most of the code you need. The `np.gradient` function will still be useful ... in fact you really only have to put everything in a `for` loop and enforce the boundary conditions.\n"
   ]
  },
  {
   "cell_type": "code",
   "execution_count": 3,
   "metadata": {
    "collapsed": true
   },
   "outputs": [],
   "source": [
    "import numpy as np\n",
    "import matplotlib.pyplot as plt\n",
    "%matplotlib inline"
   ]
  },
  {
   "cell_type": "code",
   "execution_count": 4,
   "metadata": {},
   "outputs": [
    {
     "name": "stdout",
     "output_type": "stream",
     "text": [
      "[[1. 0. 0. ... 0. 0. 0.]\n",
      " [0. 1. 0. ... 0. 0. 0.]\n",
      " [0. 0. 1. ... 0. 0. 0.]\n",
      " ...\n",
      " [0. 0. 0. ... 1. 0. 0.]\n",
      " [0. 0. 0. ... 0. 1. 0.]\n",
      " [0. 0. 0. ... 0. 0. 1.]]\n"
     ]
    }
   ],
   "source": [
    "nx, ny = 27, 25 # No more than nx=100, ny=100\n",
    "nodes = np.arange(nx*ny).reshape(ny,nx)\n",
    "dx, dy = 1., 1.\n",
    "\n",
    "# Create matrix structures\n",
    "A_matrix = np.zeros((nx*ny,nx*ny)) # square matrix\n",
    "b_matrix = np.zeros(nx*ny)\n",
    "\n",
    "# field variables\n",
    "H = 2e-6\n",
    "k = 3.0\n",
    "\n",
    "# boundary conditions (constant temperature)\n",
    "topBC = 300.0\n",
    "bottomBC = 800.0\n",
    "leftBC = 500.0\n",
    "rightBC = 500.0\n",
    "\n",
    "# boundary nodes\n",
    "top_nodes = nodes[0,:]\n",
    "bottom_nodes = nodes[-1,:]\n",
    "left_nodes = nodes[1:-1,0]\n",
    "right_nodes = nodes[1:-1,-1]\n",
    "\n",
    "for idx in top_nodes:\n",
    "    A_matrix[idx, idx] = 1.0\n",
    "    b_matrix[idx] = topBC\n",
    "for idx in bottom_nodes:\n",
    "    A_matrix[idx, idx] = 1.0\n",
    "    b_matrix[idx] = bottomBC\n",
    "for idx in left_nodes:\n",
    "    A_matrix[idx, idx] = 1.0\n",
    "    b_matrix[idx] = leftBC\n",
    "for idx in right_nodes:\n",
    "    A_matrix[idx, idx] = 1.0\n",
    "    b_matrix[idx] = rightBC\n",
    "\n",
    "bmask = np.zeros_like(nodes, dtype=bool)\n",
    "bmask[1:-1,1:-1] = True # these are nodes that do not intersect the boundary\n",
    "\n",
    "for idx in nodes[bmask]:\n",
    "    A_matrix[idx, idx-nx] = k/dy**2\n",
    "    A_matrix[idx, idx-1]  = k/dx**2\n",
    "    A_matrix[idx, idx]    = -2*k/dx**2 -2*k/dy**2\n",
    "    A_matrix[idx, idx+1]  = k/dx**2\n",
    "    A_matrix[idx, idx+nx] = k/dy**2\n",
    "    \n",
    "    b_matrix[idx] = -H\n",
    "\n",
    "print (A_matrix)"
   ]
  },
  {
   "cell_type": "code",
   "execution_count": 5,
   "metadata": {},
   "outputs": [
    {
     "data": {
      "image/png": "[encoded data removed]",
      "text/plain": [
       "<Figure size 720x288 with 2 Axes>"
      ]
     },
     "metadata": {
      "needs_background": "light"
     },
     "output_type": "display_data"
    }
   ],
   "source": [
    "temperature = np.linalg.solve(A_matrix, b_matrix) # solve x matrix\n",
    "\n",
    "fig = plt.figure(1, figsize=(10,4))\n",
    "ax1 = fig.add_subplot(111)\n",
    "\n",
    "im = ax1.imshow(temperature.reshape(ny,nx))\n",
    "ax1.set_title('Temperature (Kelvin)')\n",
    "ax1.contour(temperature.reshape(ny,nx)) # Lets plot some contours\n",
    "\n",
    "fig.colorbar(im)\n",
    "plt.show()"
   ]
  },
  {
   "cell_type": "code",
   "execution_count": 6,
   "metadata": {},
   "outputs": [],
   "source": [
    "\n",
    "\n",
    "T = np.zeros((ny,nx))\n",
    "T_new = T.copy()\n",
    "time = 0.0\n",
    "# Initial conditions\n",
    "#wrap up in a for loop\n",
    "\n",
    "for i in range (0,200):\n",
    "    \n",
    "    T = T_new.copy()\n",
    "    \n",
    "    #print(i)\n",
    "\n",
    "    T[0,:] = 300.\n",
    "    T[-1,:] = 800.\n",
    "\n",
    "\n",
    "    k = 1.0\n",
    "\n",
    "    # 1 timestep\n",
    "    gradTx, gradTy = np.gradient(T, dx, dy)\n",
    "    flux_x = k*gradTx\n",
    "    flux_y = k*gradTy\n",
    "\n",
    "    gradTxx, gradTxy = np.gradient(flux_x, dx, dy)\n",
    "    gradTyx, gradTyy = np.gradient(flux_y, dx, dy)\n",
    "\n",
    "    divT = gradTxx + gradTyy\n",
    "    dt = (dx*dy)/k\n",
    "    time += dt\n",
    "\n",
    "    T_new = T + dt*divT\n",
    "\n",
    "\n",
    "#what timestep size is a good trade-off. We want a large size but we want it to be stable.\n",
    "\n",
    "\n",
    "    \n",
    "    \n",
    "    \n",
    "    "
   ]
  },
  {
   "cell_type": "code",
   "execution_count": 7,
   "metadata": {},
   "outputs": [
    {
     "data": {
      "text/plain": [
       "<matplotlib.image.AxesImage at 0x7f41855134a8>"
      ]
     },
     "execution_count": 7,
     "metadata": {},
     "output_type": "execute_result"
    },
    {
     "data": {
      "image/png": "[encoded data removed]",
      "text/plain": [
       "<Figure size 720x288 with 2 Axes>"
      ]
     },
     "metadata": {
      "needs_background": "light"
     },
     "output_type": "display_data"
    }
   ],
   "source": [
    "#change timestep size and create dif graphs.\n",
    "\n",
    "fig, (ax1, ax2) = plt.subplots(1,2, sharey=True, figsize=(10,4))\n",
    "ax1.imshow(T)\n",
    "ax2.imshow(T_new)"
   ]
  },
  {
   "cell_type": "markdown",
   "metadata": {},
   "source": [
    "We know that there is an instability in the code which occurs if the timestep is too large. Currently the timestep size is related to the size of the mesh and the diffusivity:\n",
    "\n",
    "$$\n",
    "\\Delta t = \\frac{\\Delta x \\Delta y}{\\kappa}\n",
    "$$\n",
    "\n",
    "\n",
    "What happens if you overwrite the timestep size, `dt`? What is the point where the solution begins to breakdown and you see wild oscillations? Is it pretty close to the above relation?"
   ]
  },
  {
   "cell_type": "code",
   "execution_count": 9,
   "metadata": {
    "collapsed": true
   },
   "outputs": [
    {
     "data": {
      "text/plain": [
       "<matplotlib.image.AxesImage at 0x7f418544c240>"
      ]
     },
     "execution_count": 9,
     "metadata": {},
     "output_type": "execute_result"
    },
    {
     "data": {
      "image/png": "[encoded data removed]",
      "text/plain": [
       "<Figure size 720x288 with 2 Axes>"
      ]
     },
     "metadata": {
      "needs_background": "light"
     },
     "output_type": "display_data"
    }
   ],
   "source": [
    "T = np.zeros((ny,nx))\n",
    "# Initial conditions\n",
    "T[0,:] = 300.\n",
    "T[-1,:] = 800.\n",
    "\n",
    "k = 1.0\n",
    "\n",
    "# 1 timestep\n",
    "time = 0.0\n",
    "gradTx, gradTy = np.gradient(T, dx, dy)\n",
    "flux_x = k*gradTx\n",
    "flux_y = k*gradTy\n",
    "\n",
    "gradTxx, gradTxy = np.gradient(flux_x, dx, dy)\n",
    "gradTyx, gradTyy = np.gradient(flux_y, dx, dy)\n",
    "\n",
    "divT = gradTxx + gradTyy\n",
    "dt = (dx*dy)/k\n",
    "time += dt\n",
    "\n",
    "T_new = T + dt*divT\n",
    "\n",
    "fig, (ax1, ax2) = plt.subplots(1,2, sharey=True, figsize=(10,4))\n",
    "ax1.imshow(T)\n",
    "ax2.imshow(T_new)"
   ]
  },
  {
   "cell_type": "code",
   "execution_count": 36,
   "metadata": {},
   "outputs": [
    {
     "data": {
      "text/plain": [
       "Text(0.5, 1.0, 'dt = 20')"
      ]
     },
     "execution_count": 36,
     "metadata": {},
     "output_type": "execute_result"
    },
    {
     "data": {
      "image/png": "[encoded data removed]",
      "text/plain": [
       "<Figure size 1008x1008 with 6 Axes>"
      ]
     },
     "metadata": {
      "needs_background": "light"
     },
     "output_type": "display_data"
    }
   ],
   "source": [
    "T = np.zeros((ny,nx))\n",
    "# Initial conditions\n",
    "T[0,:] = 300.\n",
    "T[-1,:] = 800.\n",
    "\n",
    "k = 1.0\n",
    "\n",
    "# 1 timestep\n",
    "time = 0.0\n",
    "gradTx, gradTy = np.gradient(T, dx, dy)\n",
    "flux_x = k*gradTx\n",
    "flux_y = k*gradTy\n",
    "\n",
    "gradTxx, gradTxy = np.gradient(flux_x, dx, dy)\n",
    "gradTyx, gradTyy = np.gradient(flux_y, dx, dy)\n",
    "\n",
    "divT = gradTxx + gradTyy\n",
    "dt = (dx*dy)/k\n",
    "dt2 = 1\n",
    "dt3 = 5\n",
    "dt4 = 10\n",
    "dt5 = 20\n",
    "time += dt\n",
    "\n",
    "T_new = T + dt*divT\n",
    "T_new2 = T + dt2*divT\n",
    "T_new3 = T + dt3*divT\n",
    "T_new4 = T + dt4*divT\n",
    "T_new5 = T + dt5*divT\n",
    "fig, axes = plt.subplots(ncols=3, nrows=2)\n",
    "ax1, ax2, ax3, ax4, ax5, ax6 =axes.ravel()\n",
    "fig.set_size_inches((14,14))\n",
    "\n",
    "#fig, (ax1, ax2) = plt.subplots(1,2, sharey=True, figsize=(10,4))\n",
    "ax1.imshow(T)\n",
    "ax1.set_title('Before')\n",
    "\n",
    "ax2.imshow(T_new)\n",
    "ax2.set_title('original dt')\n",
    "\n",
    "ax3.imshow(T_new2)\n",
    "ax3.set_title('dt = 1')\n",
    "\n",
    "ax4.imshow(T_new3)\n",
    "ax4.set_title('dt = 5')\n",
    "\n",
    "ax5.imshow(T_new4)\n",
    "ax5.set_title('dt = 10')\n",
    "\n",
    "ax6.imshow(T_new5)\n",
    "ax6.set_title('dt = 20')"
   ]
  },
  {
   "cell_type": "code",
   "execution_count": 43,
   "metadata": {},
   "outputs": [
    {
     "data": {
      "text/plain": [
       "<matplotlib.image.AxesImage at 0x7f41818beac8>"
      ]
     },
     "execution_count": 43,
     "metadata": {},
     "output_type": "execute_result"
    },
    {
     "data": {
      "image/png": "[encoded data removed]",
      "text/plain": [
       "<Figure size 720x288 with 2 Axes>"
      ]
     },
     "metadata": {
      "needs_background": "light"
     },
     "output_type": "display_data"
    }
   ],
   "source": [
    "\n",
    "\n",
    "T = np.zeros((ny,nx))\n",
    "T_new = T.copy()\n",
    "time = 0.0\n",
    "# Initial conditions\n",
    "#wrap up in a for loop\n",
    "\n",
    "for i in range (0,200):\n",
    "    \n",
    "    T = T_new.copy()\n",
    "    \n",
    "    #print(i)\n",
    "\n",
    "    T[0,:] = 300.\n",
    "    T[-1,:] = 800.\n",
    "\n",
    "\n",
    "    k = 1.0\n",
    "\n",
    "    # 1 timestep\n",
    "    gradTx, gradTy = np.gradient(T, dx, dy)\n",
    "    flux_x = k*gradTx\n",
    "    flux_y = k*gradTy\n",
    "\n",
    "    gradTxx, gradTxy = np.gradient(flux_x, dx, dy)\n",
    "    gradTyx, gradTyy = np.gradient(flux_y, dx, dy)\n",
    "\n",
    "    divT = gradTxx + gradTyy\n",
    "    dt = 10\n",
    "    time += dt\n",
    "\n",
    "    T_new = T + dt*divT\n",
    "\n",
    "fig, (ax1, ax2) = plt.subplots(1,2, sharey=True, figsize=(10,4))\n",
    "ax1.imshow(T)\n",
    "ax2.imshow(T_new)\n",
    "\n",
    "#what timestep size is a good trade-off. We want a large size but we want it to be stable.\n",
    "\n"
   ]
  },
  {
   "cell_type": "markdown",
   "metadata": {},
   "source": [
    "10 does not reach a steady state solution\n",
    "\n",
    "\n",
    "\n"
   ]
  },
  {
   "cell_type": "code",
   "execution_count": 44,
   "metadata": {},
   "outputs": [
    {
     "data": {
      "text/plain": [
       "<matplotlib.image.AxesImage at 0x7f41817f0128>"
      ]
     },
     "execution_count": 44,
     "metadata": {},
     "output_type": "execute_result"
    },
    {
     "data": {
      "image/png": "[encoded data removed]",
      "text/plain": [
       "<Figure size 720x288 with 2 Axes>"
      ]
     },
     "metadata": {
      "needs_background": "light"
     },
     "output_type": "display_data"
    }
   ],
   "source": [
    "\n",
    "\n",
    "T = np.zeros((ny,nx))\n",
    "T_new = T.copy()\n",
    "time = 0.0\n",
    "# Initial conditions\n",
    "#wrap up in a for loop\n",
    "\n",
    "for i in range (0,200):\n",
    "    \n",
    "    T = T_new.copy()\n",
    "    \n",
    "    #print(i)\n",
    "\n",
    "    T[0,:] = 300.\n",
    "    T[-1,:] = 800.\n",
    "\n",
    "\n",
    "    k = 1.0\n",
    "\n",
    "    # 1 timestep\n",
    "    gradTx, gradTy = np.gradient(T, dx, dy)\n",
    "    flux_x = k*gradTx\n",
    "    flux_y = k*gradTy\n",
    "\n",
    "    gradTxx, gradTxy = np.gradient(flux_x, dx, dy)\n",
    "    gradTyx, gradTyy = np.gradient(flux_y, dx, dy)\n",
    "\n",
    "    divT = gradTxx + gradTyy\n",
    "    dt = 5\n",
    "    time += dt\n",
    "\n",
    "    T_new = T + dt*divT\n",
    "\n",
    "fig, (ax1, ax2) = plt.subplots(1,2, sharey=True, figsize=(10,4))\n",
    "ax1.imshow(T)\n",
    "ax2.imshow(T_new)\n",
    "\n",
    "#what timestep size is a good trade-off. We want a large size but we want it to be stable."
   ]
  },
  {
   "cell_type": "markdown",
   "metadata": {},
   "source": [
    "5 doesnt work well either"
   ]
  },
  {
   "cell_type": "code",
   "execution_count": 45,
   "metadata": {},
   "outputs": [
    {
     "data": {
      "text/plain": [
       "<matplotlib.image.AxesImage at 0x7f4181648748>"
      ]
     },
     "execution_count": 45,
     "metadata": {},
     "output_type": "execute_result"
    },
    {
     "data": {
      "image/png": "[encoded data removed]",
      "text/plain": [
       "<Figure size 720x288 with 2 Axes>"
      ]
     },
     "metadata": {
      "needs_background": "light"
     },
     "output_type": "display_data"
    }
   ],
   "source": [
    "T = np.zeros((ny,nx))\n",
    "T_new = T.copy()\n",
    "time = 0.0\n",
    "# Initial conditions\n",
    "#wrap up in a for loop\n",
    "\n",
    "for i in range (0,200):\n",
    "    \n",
    "    T = T_new.copy()\n",
    "    \n",
    "    #print(i)\n",
    "\n",
    "    T[0,:] = 300.\n",
    "    T[-1,:] = 800.\n",
    "\n",
    "\n",
    "    k = 1.0\n",
    "\n",
    "    # 1 timestep\n",
    "    gradTx, gradTy = np.gradient(T, dx, dy)\n",
    "    flux_x = k*gradTx\n",
    "    flux_y = k*gradTy\n",
    "\n",
    "    gradTxx, gradTxy = np.gradient(flux_x, dx, dy)\n",
    "    gradTyx, gradTyy = np.gradient(flux_y, dx, dy)\n",
    "\n",
    "    divT = gradTxx + gradTyy\n",
    "    dt = 2\n",
    "    time += dt\n",
    "\n",
    "    T_new = T + dt*divT\n",
    "\n",
    "fig, (ax1, ax2) = plt.subplots(1,2, sharey=True, figsize=(10,4))\n",
    "ax1.imshow(T)\n",
    "ax2.imshow(T_new)\n",
    "\n",
    "#what timestep size is a good trade-off. We want a large size but we want it to be stable."
   ]
  },
  {
   "cell_type": "markdown",
   "metadata": {},
   "source": [
    "A timestep of two is much better than five, however it is still not as good as a timestep of 1"
   ]
  },
  {
   "cell_type": "code",
   "execution_count": 46,
   "metadata": {},
   "outputs": [
    {
     "data": {
      "text/plain": [
       "<matplotlib.image.AxesImage at 0x7f41815edd68>"
      ]
     },
     "execution_count": 46,
     "metadata": {},
     "output_type": "execute_result"
    },
    {
     "data": {
      "image/png": "[encoded data removed]",
      "text/plain": [
       "<Figure size 720x288 with 2 Axes>"
      ]
     },
     "metadata": {
      "needs_background": "light"
     },
     "output_type": "display_data"
    }
   ],
   "source": [
    "T = np.zeros((ny,nx))\n",
    "T_new = T.copy()\n",
    "time = 0.0\n",
    "# Initial conditions\n",
    "#wrap up in a for loop\n",
    "\n",
    "for i in range (0,200):\n",
    "    \n",
    "    T = T_new.copy()\n",
    "    \n",
    "    #print(i)\n",
    "\n",
    "    T[0,:] = 300.\n",
    "    T[-1,:] = 800.\n",
    "\n",
    "\n",
    "    k = 1.0\n",
    "\n",
    "    # 1 timestep\n",
    "    gradTx, gradTy = np.gradient(T, dx, dy)\n",
    "    flux_x = k*gradTx\n",
    "    flux_y = k*gradTy\n",
    "\n",
    "    gradTxx, gradTxy = np.gradient(flux_x, dx, dy)\n",
    "    gradTyx, gradTyy = np.gradient(flux_y, dx, dy)\n",
    "\n",
    "    divT = gradTxx + gradTyy\n",
    "    dt = 1\n",
    "    time += dt\n",
    "\n",
    "    T_new = T + dt*divT\n",
    "\n",
    "fig, (ax1, ax2) = plt.subplots(1,2, sharey=True, figsize=(10,4))\n",
    "ax1.imshow(T)\n",
    "ax2.imshow(T_new)\n",
    "\n",
    "#what timestep size is a good trade-off. We want a large size but we want it to be stable."
   ]
  },
  {
   "cell_type": "markdown",
   "metadata": {},
   "source": [
    "A timestep of 1 reaches the steady state solution nicely"
   ]
  },
  {
   "cell_type": "code",
   "execution_count": null,
   "metadata": {},
   "outputs": [],
   "source": []
  }
 ],
 "metadata": {
  "kernelspec": {
   "display_name": "Python 3",
   "language": "python",
   "name": "python3"
  },
  "language_info": {
   "codemirror_mode": {
    "name": "ipython",
    "version": 3
   },
   "file_extension": ".py",
   "mimetype": "text/x-python",
   "name": "python",
   "nbconvert_exporter": "python",
   "pygments_lexer": "ipython3",
   "version": "3.7.1"
  }
 },
 "nbformat": 4,
 "nbformat_minor": 2
}
